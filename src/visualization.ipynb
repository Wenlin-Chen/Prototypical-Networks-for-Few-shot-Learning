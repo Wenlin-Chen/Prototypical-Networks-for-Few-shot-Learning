{
 "cells": [
  {
   "cell_type": "code",
   "execution_count": 1,
   "metadata": {},
   "outputs": [],
   "source": [
    "import torch"
   ]
  },
  {
   "cell_type": "code",
   "execution_count": 2,
   "metadata": {},
   "outputs": [
    {
     "data": {
      "text/plain": [
       "<All keys matched successfully>"
      ]
     },
     "execution_count": 2,
     "metadata": {},
     "output_type": "execute_result"
    }
   ],
   "source": [
    "from model import EmbeddingNet\n",
    "model = EmbeddingNet(1, 64, 64)\n",
    "model.load_state_dict(torch.load(\"best_model.pth\", map_location=torch.device('cpu')))"
   ]
  },
  {
   "cell_type": "code",
   "execution_count": 3,
   "metadata": {},
   "outputs": [],
   "source": [
    "from train_omniglot import get_dataloader"
   ]
  },
  {
   "cell_type": "code",
   "execution_count": 4,
   "metadata": {},
   "outputs": [
    {
     "name": "stdout",
     "output_type": "stream",
     "text": [
      "== Dataset: Found 33840 items \n",
      "== Dataset: Found 1692 classes\n"
     ]
    }
   ],
   "source": [
    "test_dataloader = get_dataloader('test')"
   ]
  },
  {
   "cell_type": "code",
   "execution_count": 5,
   "metadata": {},
   "outputs": [],
   "source": [
    "model.eval()\n",
    "with torch.no_grad():\n",
    "    test_iter = iter(test_dataloader)\n",
    "    for batch in test_iter:\n",
    "        x, y = batch\n",
    "        x_embed = model(x)\n",
    "        break"
   ]
  },
  {
   "cell_type": "code",
   "execution_count": 6,
   "metadata": {},
   "outputs": [
    {
     "name": "stdout",
     "output_type": "stream",
     "text": [
      "tensor([  90,   85,   90,   85,  278,   90,  740,   90, 1465,   85,   90, 1465,\n",
      "        1465,  740, 1465, 1465, 1465,   85,   85,  278, 1465,   90,  278,   85,\n",
      "        1465,   85,   90,  740,   85, 1465,  740,  740,   85,   90,   85, 1465,\n",
      "         278,  278, 1465,  278,   90,  278,   90,   85,  278,  740,  278,   85,\n",
      "        1465,   90,   85,   85,  278,  278,   90,  740,  740,   90,  278,  740,\n",
      "        1465,  278, 1465, 1465,  278,  278,   85, 1465, 1465,   90,   85,  740,\n",
      "          90,  740,  278,  740,  740,   90,  278, 1465,   85,   90,  740,  740,\n",
      "         278,  740,   85, 1465,   90,   90,   85,  740,  740,  740, 1465,  278,\n",
      "          85,   90,  278,  740])\n",
      "torch.Size([100, 64])\n"
     ]
    }
   ],
   "source": [
    "print(y)\n",
    "print(x_embed.size())"
   ]
  },
  {
   "cell_type": "code",
   "execution_count": 7,
   "metadata": {},
   "outputs": [],
   "source": [
    "n_support = 5\n",
    "\n",
    "unique_classes, input_to_class_idx = torch.unique(y, sorted=False,\n",
    "                                                        return_inverse=True)\n",
    "n_class = len(unique_classes)\n",
    "query_list = []\n",
    "prototype_list = []\n",
    "\n",
    "for k in range(n_class):\n",
    "    \n",
    "    input_idx = torch.flatten((input_to_class_idx == k).nonzero(\n",
    "                                                        as_tuple = False))\n",
    "    input_k = torch.index_select(x_embed, 0, input_idx)\n",
    "    support_k = input_k[:n_support]\n",
    "    query_k = input_k[n_support:]\n",
    "\n",
    "    prototype_k = torch.mean(support_k, 0)\n",
    "            \n",
    "    query_list.append(query_k)\n",
    "    prototype_list.append(prototype_k)\n",
    "\n",
    "    query = torch.stack(query_list)\n",
    "    prototype = torch.stack(prototype_list)"
   ]
  },
  {
   "cell_type": "code",
   "execution_count": 8,
   "metadata": {},
   "outputs": [
    {
     "name": "stdout",
     "output_type": "stream",
     "text": [
      "torch.Size([5, 15, 64])\n",
      "torch.Size([5, 64])\n"
     ]
    }
   ],
   "source": [
    "print(query.size())\n",
    "print(prototype.size())"
   ]
  },
  {
   "cell_type": "code",
   "execution_count": 9,
   "metadata": {},
   "outputs": [],
   "source": [
    "query_re = query.view(-1, 64)"
   ]
  },
  {
   "cell_type": "code",
   "execution_count": 10,
   "metadata": {},
   "outputs": [
    {
     "name": "stdout",
     "output_type": "stream",
     "text": [
      "torch.Size([75, 64])\n",
      "tensor([True, True, True, True, True, True, True, True, True, True, True, True,\n",
      "        True, True, True, True, True, True, True, True, True, True, True, True,\n",
      "        True, True, True, True, True, True, True, True, True, True, True, True,\n",
      "        True, True, True, True, True, True, True, True, True, True, True, True,\n",
      "        True, True, True, True, True, True, True, True, True, True, True, True,\n",
      "        True, True, True, True])\n",
      "tensor([False, False, False, False, False, False, False, False, False, False,\n",
      "        False, False, False,  True,  True, False, False, False, False, False,\n",
      "        False, False, False, False, False, False, False, False, False, False,\n",
      "        False,  True, False, False, False, False, False,  True, False,  True,\n",
      "         True, False, False, False,  True,  True, False, False, False, False,\n",
      "        False, False, False, False, False, False,  True,  True, False, False,\n",
      "        False, False, False, False])\n",
      "tensor([True, True, True, True, True, True, True, True, True, True, True, True,\n",
      "        True, True, True, True, True, True, True, True, True, True, True, True,\n",
      "        True, True, True, True, True, True, True, True, True, True, True, True,\n",
      "        True, True, True, True, True, True, True, True, True, True, True, True,\n",
      "        True, True, True, True, True, True, True, True, True, True, True, True,\n",
      "        True, True, True, True])\n"
     ]
    }
   ],
   "source": [
    "print(query_re.size())\n",
    "print(query_re[15] == query[1,0])\n",
    "print(query_re[31] == query[2,0])\n",
    "print(query_re[31] == query[2,1])"
   ]
  },
  {
   "cell_type": "code",
   "execution_count": 11,
   "metadata": {},
   "outputs": [
    {
     "name": "stdout",
     "output_type": "stream",
     "text": [
      "(80, 64)\n"
     ]
    }
   ],
   "source": [
    "prototype_query = torch.cat([prototype, query_re]).detach().numpy()\n",
    "print(prototype_query.shape)"
   ]
  },
  {
   "cell_type": "code",
   "execution_count": 12,
   "metadata": {},
   "outputs": [],
   "source": [
    "from sklearn.manifold import TSNE"
   ]
  },
  {
   "cell_type": "code",
   "execution_count": 13,
   "metadata": {},
   "outputs": [],
   "source": [
    "prototype_query_tsne = TSNE(n_components=2).fit_transform(prototype_query)"
   ]
  },
  {
   "cell_type": "code",
   "execution_count": 14,
   "metadata": {},
   "outputs": [
    {
     "data": {
      "text/plain": [
       "(80, 2)"
      ]
     },
     "execution_count": 14,
     "metadata": {},
     "output_type": "execute_result"
    }
   ],
   "source": [
    "prototype_query_tsne.shape"
   ]
  },
  {
   "cell_type": "code",
   "execution_count": 18,
   "metadata": {},
   "outputs": [
    {
     "data": {
      "image/png": "[encoded data removed]",
      "text/plain": [
       "<Figure size 1440x576 with 1 Axes>"
      ]
     },
     "metadata": {},
     "output_type": "display_data"
    }
   ],
   "source": [
    "import matplotlib.pyplot as plt\n",
    "\n",
    "prototype_tsne = prototype_query_tsne[:5]\n",
    "query_tsne = prototype_query_tsne[5:]\n",
    "\n",
    "f = plt.figure(figsize=(20,8))\n",
    "\n",
    "plt.scatter(prototype_tsne[0,0], prototype_tsne[0,1], s=800, marker=\"*\", c=\"blue\")\n",
    "plt.scatter(prototype_tsne[1,0], prototype_tsne[1,1], s=800, marker=\"*\", c=\"yellow\")\n",
    "plt.scatter(prototype_tsne[2,0], prototype_tsne[2,1], s=800, marker=\"*\", c=\"green\")\n",
    "plt.scatter(prototype_tsne[3,0], prototype_tsne[3,1], s=800, marker=\"*\", c=\"red\")\n",
    "plt.scatter(prototype_tsne[4,0], prototype_tsne[4,1], s=800, marker=\"*\", c=\"magenta\")\n",
    "\n",
    "\n",
    "plt.scatter(query_tsne[:15,0], query_tsne[:15,1], s=200, c=\"blue\")\n",
    "plt.scatter(query_tsne[15:30,0], query_tsne[15:30,1], s=200, c=\"yellow\")\n",
    "plt.scatter(query_tsne[30:45,0], query_tsne[30:45,1], s=200, c=\"green\")\n",
    "plt.scatter(query_tsne[45:60,0], query_tsne[45:60,1], s=200, c=\"red\")\n",
    "plt.scatter(query_tsne[60:,0], query_tsne[60:,1], s=200, c=\"magenta\")\n",
    "plt.xticks([])\n",
    "plt.yticks([])\n",
    "f.savefig(\"visualization.pdf\", bbox_inches='tight')\n",
    "f.savefig(\"visualization.png\", bbox_inches='tight')"
   ]
  },
  {
   "cell_type": "code",
   "execution_count": null,
   "metadata": {},
   "outputs": [],
   "source": []
  }
 ],
 "metadata": {
  "kernelspec": {
   "display_name": "Python 3",
   "language": "python",
   "name": "python3"
  },
  "language_info": {
   "codemirror_mode": {
    "name": "ipython",
    "version": 3
   },
   "file_extension": ".py",
   "mimetype": "text/x-python",
   "name": "python",
   "nbconvert_exporter": "python",
   "pygments_lexer": "ipython3",
   "version": "3.6.9"
  }
 },
 "nbformat": 4,
 "nbformat_minor": 2
}
